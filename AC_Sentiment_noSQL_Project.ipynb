{
 "cells": [
  {
   "cell_type": "markdown",
   "metadata": {
    "id": "WgHnpvyydNYr"
   },
   "source": [
    "## Imports"
   ]
  },
  {
   "cell_type": "code",
   "execution_count": null,
   "metadata": {
    "id": "oxFpq9lkXaqx",
    "scrolled": true
   },
   "outputs": [],
   "source": [
    "# pip install Flask pymongo transformers pandas numpy torch"
   ]
  },
  {
   "cell_type": "code",
   "execution_count": null,
   "metadata": {},
   "outputs": [],
   "source": [
    "pip install matplotlib seaborn"
   ]
  },
  {
   "cell_type": "code",
   "execution_count": null,
   "metadata": {},
   "outputs": [],
   "source": [
    "pip install pymongo[srv]"
   ]
  },
  {
   "cell_type": "code",
   "execution_count": null,
   "metadata": {
    "id": "VrWmwQFnc-H8"
   },
   "outputs": [],
   "source": [
    "# pip install requests"
   ]
  },
  {
   "cell_type": "code",
   "execution_count": null,
   "metadata": {},
   "outputs": [],
   "source": [
    "pip install --upgrade transformers"
   ]
  },
  {
   "cell_type": "code",
   "execution_count": 1,
   "metadata": {
    "id": "8jELFG2lnimi"
   },
   "outputs": [],
   "source": [
    "from transformers import AutoTokenizer, AutoModelForSequenceClassification\n",
    "import torch\n",
    "import re\n",
    "import numpy as np\n",
    "import pandas as pd\n",
    "from datetime import datetime\n",
    "import seaborn as sns\n",
    "import matplotlib\n",
    "matplotlib.use('Agg')  # Use Agg backend, which is a non-interactive backend suitable for scripts.\n",
    "import matplotlib.pyplot as plt\n"
   ]
  },
  {
   "cell_type": "markdown",
   "metadata": {
    "id": "phISfUW5cpGE"
   },
   "source": [
    "## Data"
   ]
  },
  {
   "cell_type": "code",
   "execution_count": 2,
   "metadata": {
    "colab": {
     "base_uri": "https://localhost:8080/"
    },
    "id": "qrpQ7pK18ywZ",
    "outputId": "05a1a1d0-e41f-4e87-8d74-67f8ed0d5447"
   },
   "outputs": [],
   "source": [
    "file_path = 'C:/Users/delis/Desktop/Jupyter Notebook Files/Projects/NoSQL/AC Sentiment/amazon-consumer.csv'\n",
    "delimiter = ','  # Assuming the data is comma-separated\n",
    "\n",
    "try:\n",
    "    df = pd.read_csv(file_path, sep=delimiter, low_memory=False)\n",
    "except pd.errors.ParserError as e:\n",
    "    print(f\"ParserError: {e}\")"
   ]
  },
  {
   "cell_type": "code",
   "execution_count": 3,
   "metadata": {
    "colab": {
     "base_uri": "https://localhost:8080/"
    },
    "id": "g4DWSJNzfb16",
    "outputId": "c646a999-fc9f-433f-aea3-7a508afa6bd1"
   },
   "outputs": [
    {
     "data": {
      "text/html": [
       "<div>\n",
       "<style scoped>\n",
       "    .dataframe tbody tr th:only-of-type {\n",
       "        vertical-align: middle;\n",
       "    }\n",
       "\n",
       "    .dataframe tbody tr th {\n",
       "        vertical-align: top;\n",
       "    }\n",
       "\n",
       "    .dataframe thead th {\n",
       "        text-align: right;\n",
       "    }\n",
       "</style>\n",
       "<table border=\"1\" class=\"dataframe\">\n",
       "  <thead>\n",
       "    <tr style=\"text-align: right;\">\n",
       "      <th></th>\n",
       "      <th>id</th>\n",
       "      <th>name</th>\n",
       "      <th>asins</th>\n",
       "      <th>brand</th>\n",
       "      <th>categories</th>\n",
       "      <th>keys</th>\n",
       "      <th>manufacturer</th>\n",
       "      <th>reviews.date</th>\n",
       "      <th>reviews.dateAdded</th>\n",
       "      <th>reviews.dateSeen</th>\n",
       "      <th>...</th>\n",
       "      <th>reviews.doRecommend</th>\n",
       "      <th>reviews.id</th>\n",
       "      <th>reviews.numHelpful</th>\n",
       "      <th>reviews.rating</th>\n",
       "      <th>reviews.sourceURLs</th>\n",
       "      <th>reviews.text</th>\n",
       "      <th>reviews.title</th>\n",
       "      <th>reviews.userCity</th>\n",
       "      <th>reviews.userProvince</th>\n",
       "      <th>reviews.username</th>\n",
       "    </tr>\n",
       "  </thead>\n",
       "  <tbody>\n",
       "    <tr>\n",
       "      <th>0</th>\n",
       "      <td>AVqkIhwDv8e3D1O-lebb</td>\n",
       "      <td>All-New Fire HD 8 Tablet, 8 HD Display, Wi-Fi,...</td>\n",
       "      <td>B01AHB9CN2</td>\n",
       "      <td>Amazon</td>\n",
       "      <td>Electronics,iPad &amp; Tablets,All Tablets,Fire Ta...</td>\n",
       "      <td>841667104676,amazon/53004484,amazon/b01ahb9cn2...</td>\n",
       "      <td>Amazon</td>\n",
       "      <td>2017-01-13T00:00:00.000Z</td>\n",
       "      <td>2017-07-03T23:33:15Z</td>\n",
       "      <td>2017-06-07T09:04:00.000Z,2017-04-30T00:45:00.000Z</td>\n",
       "      <td>...</td>\n",
       "      <td>True</td>\n",
       "      <td>NaN</td>\n",
       "      <td>0.0</td>\n",
       "      <td>5.0</td>\n",
       "      <td>http://reviews.bestbuy.com/3545/5620406/review...</td>\n",
       "      <td>This product so far has not disappointed. My c...</td>\n",
       "      <td>Kindle</td>\n",
       "      <td>NaN</td>\n",
       "      <td>NaN</td>\n",
       "      <td>Adapter</td>\n",
       "    </tr>\n",
       "    <tr>\n",
       "      <th>1</th>\n",
       "      <td>AVqkIhwDv8e3D1O-lebb</td>\n",
       "      <td>All-New Fire HD 8 Tablet, 8 HD Display, Wi-Fi,...</td>\n",
       "      <td>B01AHB9CN2</td>\n",
       "      <td>Amazon</td>\n",
       "      <td>Electronics,iPad &amp; Tablets,All Tablets,Fire Ta...</td>\n",
       "      <td>841667104676,amazon/53004484,amazon/b01ahb9cn2...</td>\n",
       "      <td>Amazon</td>\n",
       "      <td>2017-01-13T00:00:00.000Z</td>\n",
       "      <td>2017-07-03T23:33:15Z</td>\n",
       "      <td>2017-06-07T09:04:00.000Z,2017-04-30T00:45:00.000Z</td>\n",
       "      <td>...</td>\n",
       "      <td>True</td>\n",
       "      <td>NaN</td>\n",
       "      <td>0.0</td>\n",
       "      <td>5.0</td>\n",
       "      <td>http://reviews.bestbuy.com/3545/5620406/review...</td>\n",
       "      <td>great for beginner or experienced person. Boug...</td>\n",
       "      <td>very fast</td>\n",
       "      <td>NaN</td>\n",
       "      <td>NaN</td>\n",
       "      <td>truman</td>\n",
       "    </tr>\n",
       "    <tr>\n",
       "      <th>2</th>\n",
       "      <td>AVqkIhwDv8e3D1O-lebb</td>\n",
       "      <td>All-New Fire HD 8 Tablet, 8 HD Display, Wi-Fi,...</td>\n",
       "      <td>B01AHB9CN2</td>\n",
       "      <td>Amazon</td>\n",
       "      <td>Electronics,iPad &amp; Tablets,All Tablets,Fire Ta...</td>\n",
       "      <td>841667104676,amazon/53004484,amazon/b01ahb9cn2...</td>\n",
       "      <td>Amazon</td>\n",
       "      <td>2017-01-13T00:00:00.000Z</td>\n",
       "      <td>2017-07-03T23:33:15Z</td>\n",
       "      <td>2017-06-07T09:04:00.000Z,2017-04-30T00:45:00.000Z</td>\n",
       "      <td>...</td>\n",
       "      <td>True</td>\n",
       "      <td>NaN</td>\n",
       "      <td>0.0</td>\n",
       "      <td>5.0</td>\n",
       "      <td>http://reviews.bestbuy.com/3545/5620406/review...</td>\n",
       "      <td>Inexpensive tablet for him to use and learn on...</td>\n",
       "      <td>Beginner tablet for our 9 year old son.</td>\n",
       "      <td>NaN</td>\n",
       "      <td>NaN</td>\n",
       "      <td>DaveZ</td>\n",
       "    </tr>\n",
       "    <tr>\n",
       "      <th>3</th>\n",
       "      <td>AVqkIhwDv8e3D1O-lebb</td>\n",
       "      <td>All-New Fire HD 8 Tablet, 8 HD Display, Wi-Fi,...</td>\n",
       "      <td>B01AHB9CN2</td>\n",
       "      <td>Amazon</td>\n",
       "      <td>Electronics,iPad &amp; Tablets,All Tablets,Fire Ta...</td>\n",
       "      <td>841667104676,amazon/53004484,amazon/b01ahb9cn2...</td>\n",
       "      <td>Amazon</td>\n",
       "      <td>2017-01-13T00:00:00.000Z</td>\n",
       "      <td>2017-07-03T23:33:15Z</td>\n",
       "      <td>2017-06-07T09:04:00.000Z,2017-04-30T00:45:00.000Z</td>\n",
       "      <td>...</td>\n",
       "      <td>True</td>\n",
       "      <td>NaN</td>\n",
       "      <td>0.0</td>\n",
       "      <td>4.0</td>\n",
       "      <td>http://reviews.bestbuy.com/3545/5620406/review...</td>\n",
       "      <td>I've had my Fire HD 8 two weeks now and I love...</td>\n",
       "      <td>Good!!!</td>\n",
       "      <td>NaN</td>\n",
       "      <td>NaN</td>\n",
       "      <td>Shacks</td>\n",
       "    </tr>\n",
       "    <tr>\n",
       "      <th>4</th>\n",
       "      <td>AVqkIhwDv8e3D1O-lebb</td>\n",
       "      <td>All-New Fire HD 8 Tablet, 8 HD Display, Wi-Fi,...</td>\n",
       "      <td>B01AHB9CN2</td>\n",
       "      <td>Amazon</td>\n",
       "      <td>Electronics,iPad &amp; Tablets,All Tablets,Fire Ta...</td>\n",
       "      <td>841667104676,amazon/53004484,amazon/b01ahb9cn2...</td>\n",
       "      <td>Amazon</td>\n",
       "      <td>2017-01-12T00:00:00.000Z</td>\n",
       "      <td>2017-07-03T23:33:15Z</td>\n",
       "      <td>2017-06-07T09:04:00.000Z,2017-04-30T00:45:00.000Z</td>\n",
       "      <td>...</td>\n",
       "      <td>True</td>\n",
       "      <td>NaN</td>\n",
       "      <td>0.0</td>\n",
       "      <td>5.0</td>\n",
       "      <td>http://reviews.bestbuy.com/3545/5620406/review...</td>\n",
       "      <td>I bought this for my grand daughter when she c...</td>\n",
       "      <td>Fantastic Tablet for kids</td>\n",
       "      <td>NaN</td>\n",
       "      <td>NaN</td>\n",
       "      <td>explore42</td>\n",
       "    </tr>\n",
       "  </tbody>\n",
       "</table>\n",
       "<p>5 rows × 21 columns</p>\n",
       "</div>"
      ],
      "text/plain": [
       "                     id                                               name  \\\n",
       "0  AVqkIhwDv8e3D1O-lebb  All-New Fire HD 8 Tablet, 8 HD Display, Wi-Fi,...   \n",
       "1  AVqkIhwDv8e3D1O-lebb  All-New Fire HD 8 Tablet, 8 HD Display, Wi-Fi,...   \n",
       "2  AVqkIhwDv8e3D1O-lebb  All-New Fire HD 8 Tablet, 8 HD Display, Wi-Fi,...   \n",
       "3  AVqkIhwDv8e3D1O-lebb  All-New Fire HD 8 Tablet, 8 HD Display, Wi-Fi,...   \n",
       "4  AVqkIhwDv8e3D1O-lebb  All-New Fire HD 8 Tablet, 8 HD Display, Wi-Fi,...   \n",
       "\n",
       "        asins   brand                                         categories  \\\n",
       "0  B01AHB9CN2  Amazon  Electronics,iPad & Tablets,All Tablets,Fire Ta...   \n",
       "1  B01AHB9CN2  Amazon  Electronics,iPad & Tablets,All Tablets,Fire Ta...   \n",
       "2  B01AHB9CN2  Amazon  Electronics,iPad & Tablets,All Tablets,Fire Ta...   \n",
       "3  B01AHB9CN2  Amazon  Electronics,iPad & Tablets,All Tablets,Fire Ta...   \n",
       "4  B01AHB9CN2  Amazon  Electronics,iPad & Tablets,All Tablets,Fire Ta...   \n",
       "\n",
       "                                                keys manufacturer  \\\n",
       "0  841667104676,amazon/53004484,amazon/b01ahb9cn2...       Amazon   \n",
       "1  841667104676,amazon/53004484,amazon/b01ahb9cn2...       Amazon   \n",
       "2  841667104676,amazon/53004484,amazon/b01ahb9cn2...       Amazon   \n",
       "3  841667104676,amazon/53004484,amazon/b01ahb9cn2...       Amazon   \n",
       "4  841667104676,amazon/53004484,amazon/b01ahb9cn2...       Amazon   \n",
       "\n",
       "               reviews.date     reviews.dateAdded  \\\n",
       "0  2017-01-13T00:00:00.000Z  2017-07-03T23:33:15Z   \n",
       "1  2017-01-13T00:00:00.000Z  2017-07-03T23:33:15Z   \n",
       "2  2017-01-13T00:00:00.000Z  2017-07-03T23:33:15Z   \n",
       "3  2017-01-13T00:00:00.000Z  2017-07-03T23:33:15Z   \n",
       "4  2017-01-12T00:00:00.000Z  2017-07-03T23:33:15Z   \n",
       "\n",
       "                                    reviews.dateSeen  ... reviews.doRecommend  \\\n",
       "0  2017-06-07T09:04:00.000Z,2017-04-30T00:45:00.000Z  ...                True   \n",
       "1  2017-06-07T09:04:00.000Z,2017-04-30T00:45:00.000Z  ...                True   \n",
       "2  2017-06-07T09:04:00.000Z,2017-04-30T00:45:00.000Z  ...                True   \n",
       "3  2017-06-07T09:04:00.000Z,2017-04-30T00:45:00.000Z  ...                True   \n",
       "4  2017-06-07T09:04:00.000Z,2017-04-30T00:45:00.000Z  ...                True   \n",
       "\n",
       "  reviews.id  reviews.numHelpful  reviews.rating  \\\n",
       "0        NaN                 0.0             5.0   \n",
       "1        NaN                 0.0             5.0   \n",
       "2        NaN                 0.0             5.0   \n",
       "3        NaN                 0.0             4.0   \n",
       "4        NaN                 0.0             5.0   \n",
       "\n",
       "                                  reviews.sourceURLs  \\\n",
       "0  http://reviews.bestbuy.com/3545/5620406/review...   \n",
       "1  http://reviews.bestbuy.com/3545/5620406/review...   \n",
       "2  http://reviews.bestbuy.com/3545/5620406/review...   \n",
       "3  http://reviews.bestbuy.com/3545/5620406/review...   \n",
       "4  http://reviews.bestbuy.com/3545/5620406/review...   \n",
       "\n",
       "                                        reviews.text  \\\n",
       "0  This product so far has not disappointed. My c...   \n",
       "1  great for beginner or experienced person. Boug...   \n",
       "2  Inexpensive tablet for him to use and learn on...   \n",
       "3  I've had my Fire HD 8 two weeks now and I love...   \n",
       "4  I bought this for my grand daughter when she c...   \n",
       "\n",
       "                             reviews.title reviews.userCity  \\\n",
       "0                                   Kindle              NaN   \n",
       "1                                very fast              NaN   \n",
       "2  Beginner tablet for our 9 year old son.              NaN   \n",
       "3                                  Good!!!              NaN   \n",
       "4                Fantastic Tablet for kids              NaN   \n",
       "\n",
       "   reviews.userProvince  reviews.username  \n",
       "0                   NaN           Adapter  \n",
       "1                   NaN            truman  \n",
       "2                   NaN             DaveZ  \n",
       "3                   NaN            Shacks  \n",
       "4                   NaN         explore42  \n",
       "\n",
       "[5 rows x 21 columns]"
      ]
     },
     "execution_count": 3,
     "metadata": {},
     "output_type": "execute_result"
    }
   ],
   "source": [
    "data = df.copy()\n",
    "df.head()"
   ]
  },
  {
   "cell_type": "code",
   "execution_count": 4,
   "metadata": {
    "colab": {
     "base_uri": "https://localhost:8080/"
    },
    "id": "pSiAGLbsiZLr",
    "outputId": "2381c287-8d45-4a6a-aa82-35a59d50e61c"
   },
   "outputs": [
    {
     "name": "stdout",
     "output_type": "stream",
     "text": [
      "<class 'pandas.core.frame.DataFrame'>\n",
      "RangeIndex: 34660 entries, 0 to 34659\n",
      "Data columns (total 21 columns):\n",
      " #   Column                Non-Null Count  Dtype  \n",
      "---  ------                --------------  -----  \n",
      " 0   id                    34660 non-null  object \n",
      " 1   name                  27900 non-null  object \n",
      " 2   asins                 34658 non-null  object \n",
      " 3   brand                 34660 non-null  object \n",
      " 4   categories            34660 non-null  object \n",
      " 5   keys                  34660 non-null  object \n",
      " 6   manufacturer          34660 non-null  object \n",
      " 7   reviews.date          34621 non-null  object \n",
      " 8   reviews.dateAdded     24039 non-null  object \n",
      " 9   reviews.dateSeen      34660 non-null  object \n",
      " 10  reviews.didPurchase   1 non-null      object \n",
      " 11  reviews.doRecommend   34066 non-null  object \n",
      " 12  reviews.id            1 non-null      float64\n",
      " 13  reviews.numHelpful    34131 non-null  float64\n",
      " 14  reviews.rating        34627 non-null  float64\n",
      " 15  reviews.sourceURLs    34660 non-null  object \n",
      " 16  reviews.text          34659 non-null  object \n",
      " 17  reviews.title         34654 non-null  object \n",
      " 18  reviews.userCity      0 non-null      float64\n",
      " 19  reviews.userProvince  0 non-null      float64\n",
      " 20  reviews.username      34653 non-null  object \n",
      "dtypes: float64(5), object(16)\n",
      "memory usage: 5.6+ MB\n"
     ]
    }
   ],
   "source": [
    "df.info()"
   ]
  },
  {
   "cell_type": "code",
   "execution_count": 5,
   "metadata": {
    "colab": {
     "base_uri": "https://localhost:8080/"
    },
    "id": "1LqkgS_W-R_M",
    "outputId": "93d2ea25-8555-4919-c154-4817fa85cd5e",
    "scrolled": true
   },
   "outputs": [
    {
     "name": "stdout",
     "output_type": "stream",
     "text": [
      "id\n",
      "AVphgVaX1cnluZ0-DR74    10966\n",
      "AVpfl8cLLJeJML43AE3S     6619\n",
      "AV1YE_muvKc47QAVgpwE     5056\n",
      "AV1YnRtnglJLPUi8IJmV     3176\n",
      "AVqkIhwDv8e3D1O-lebb     2814\n",
      "AVqVGWLKnnc1JgDc3jF1     1685\n",
      "AVpjEN4jLJeJML43rpUe     1038\n",
      "AVpfpK8KLJeJML43BCuD      636\n",
      "AVphPmHuilAPnD_x3E5h      580\n",
      "AVsRjfwAU2_QcyX9PHqe      402\n",
      "AV1YnR7wglJLPUi8IJmi      372\n",
      "AVqVGWQDv8e3D1O-ldFr      270\n",
      "AVpidLjVilAPnD_xEVpI      256\n",
      "AVqVGZNvQMlgsOJE6eUY      212\n",
      "AVqkIiKWnnc1JgDc3khH      158\n",
      "AVpfIfGA1cnluZ0-emyp       73\n",
      "AVqVGZO3nnc1JgDc3jGK       67\n",
      "AVpftoij1cnluZ0-p5n2       51\n",
      "AVqkIdntQMlgsOJE6fuB       30\n",
      "AVpe7AsMilAPnD_xQ78G       19\n",
      "AVpfBEWcilAPnD_xTGb7       19\n",
      "AVzRlorb-jtxr-f3ygvQ       16\n",
      "AVpf_4sUilAPnD_xlwYV       15\n",
      "AVqkIj9snnc1JgDc3khU       14\n",
      "AVpfiBlyLJeJML43-4Tp       13\n",
      "AVphLY7v1cnluZ0-_Ty0       13\n",
      "AVpf_znpilAPnD_xlvAF       10\n",
      "AVpgdkC8ilAPnD_xsvyi       10\n",
      "AVpggqsrLJeJML43O5zp        8\n",
      "AVzvXXwEvKc47QAVfRhx        8\n",
      "AVzoGHhAglJLPUi8GfzY        7\n",
      "AVqkIhxunnc1JgDc3kg_        7\n",
      "AVpg3q4RLJeJML43TxA_        6\n",
      "AVqVGZN9QMlgsOJE6eUZ        6\n",
      "AVpff7_VilAPnD_xc1E_        6\n",
      "AVph0EeEilAPnD_x9myq        6\n",
      "AVpe9CMS1cnluZ0-aoC5        5\n",
      "AVpfwS_CLJeJML43DH5w        4\n",
      "AVzvXXxbvKc47QAVfRhy        3\n",
      "AVpioXbb1cnluZ0-PImd        2\n",
      "Name: count, dtype: int64\n"
     ]
    }
   ],
   "source": [
    "# Count the occurrences of each unique Clothing ID\n",
    "product_reviews_count = df['id'].value_counts()\n",
    "\n",
    "# Filter to find products that are reviewed multiple times\n",
    "multiple_reviews = product_reviews_count[product_reviews_count > 1]\n",
    "\n",
    "# Display the products that have been reviewed multiple times along with their review count\n",
    "print(multiple_reviews)"
   ]
  },
  {
   "cell_type": "markdown",
   "metadata": {
    "id": "jP7CpbHkf9M5"
   },
   "source": [
    "Multiple products are reviewed multiple times"
   ]
  },
  {
   "cell_type": "markdown",
   "metadata": {
    "id": "9MomK1VprjlL"
   },
   "source": [
    "## Unique Review IDs"
   ]
  },
  {
   "cell_type": "code",
   "execution_count": 6,
   "metadata": {
    "id": "vyJ7fd7krmfT"
   },
   "outputs": [],
   "source": [
    "# Create a new column 'new_review_id' and initialize it with the existing review ID values\n",
    "df['new_review_id'] = df['reviews.id']\n",
    "\n",
    "# Find the rows with NaN review IDs\n",
    "nan_rows = df['new_review_id'].isna()\n",
    "\n",
    "# Generate unique IDs for those NaN rows using a range and add an appropriate prefix\n",
    "df.loc[nan_rows, 'new_review_id'] = ['r' + str(i) for i in range(nan_rows.sum())]\n",
    "\n",
    "# If you want to replace the original 'review_id' column, you can do:\n",
    "df['reviews.id'] = df['new_review_id']\n",
    "df.drop(columns=['new_review_id'], inplace=True)"
   ]
  },
  {
   "cell_type": "code",
   "execution_count": 7,
   "metadata": {
    "id": "1gpb5ZnKroQh"
   },
   "outputs": [],
   "source": [
    "# Group by product ID and count the number of reviews\n",
    "reviews_count = df.groupby('id')['reviews.id'].count().reset_index()\n",
    "\n",
    "# Rename the columns to prepare for merging\n",
    "reviews_count.columns = ['id', 'numReviews']\n",
    "\n",
    "# Merge the original DataFrame with the reviews_count DataFrame to add the 'numReviews' column\n",
    "df = df.merge(reviews_count, on='id', how='left')\n"
   ]
  },
  {
   "cell_type": "markdown",
   "metadata": {
    "id": "578EheeppZtF"
   },
   "source": [
    "## Preprocessing"
   ]
  },
  {
   "cell_type": "markdown",
   "metadata": {
    "id": "EqgPvbSMVmo3"
   },
   "source": [
    "Instead of simly dropping NaN valued rows, we will now replace review.text values where they are null, with \"No Review.\". So that later after doing our own sentiment analysis, we can replace sentiment scores for such texts with their given review.rating values."
   ]
  },
  {
   "cell_type": "code",
   "execution_count": 8,
   "metadata": {
    "id": "Ze4pq4Onpcl-"
   },
   "outputs": [],
   "source": [
    "def preprocess_text(texts):\n",
    "    cleaned_texts = []\n",
    "    for text in texts:\n",
    "        if isinstance(text, str):  # Check if text is a string\n",
    "            text = text.lower()  # Convert to lowercase\n",
    "            text = re.sub(r'[^\\w\\s]', '', text)  # Remove special characters\n",
    "            cleaned_texts.append(text)\n",
    "        else:\n",
    "            cleaned_texts.append('No Review.')  # Handle non-string entries\n",
    "    return cleaned_texts"
   ]
  },
  {
   "cell_type": "markdown",
   "metadata": {
    "id": "ip26P-e6ma7A"
   },
   "source": [
    "## Sentiment Analysis"
   ]
  },
  {
   "cell_type": "markdown",
   "metadata": {
    "id": "7fOKlIM6WCDc"
   },
   "source": [
    "We will be using 200 random rows"
   ]
  },
  {
   "cell_type": "code",
   "execution_count": 9,
   "metadata": {
    "id": "n-95NLFgWGCO"
   },
   "outputs": [],
   "source": [
    "n = 150\n",
    "df = df.sample(n=n)\n",
    "df.to_csv('sample-{n}.csv')"
   ]
  },
  {
   "cell_type": "markdown",
   "metadata": {
    "id": "bg43I8NNmn-4"
   },
   "source": [
    "### Instantiate Model"
   ]
  },
  {
   "cell_type": "code",
   "execution_count": 10,
   "metadata": {
    "id": "QxM9hizLn1u2"
   },
   "outputs": [],
   "source": [
    "tokenizer = AutoTokenizer.from_pretrained('nlptown/bert-base-multilingual-uncased-sentiment')\n",
    "\n",
    "model = AutoModelForSequenceClassification.from_pretrained('nlptown/bert-base-multilingual-uncased-sentiment')"
   ]
  },
  {
   "cell_type": "markdown",
   "metadata": {
    "id": "Eb8keq2kms6Q"
   },
   "source": [
    "### Encode & Calculate Sentiment"
   ]
  },
  {
   "cell_type": "code",
   "execution_count": 11,
   "metadata": {
    "id": "QJrFJXq9pg2f"
   },
   "outputs": [],
   "source": [
    "def get_sentiment_scores(reviews):\n",
    "    sentiments = []\n",
    "    for review in reviews:\n",
    "        inputs = tokenizer.encode_plus(\n",
    "            review,\n",
    "            add_special_tokens=True,\n",
    "            return_tensors=\"pt\", # Returns PyTorch tensors\n",
    "            truncation=True,\n",
    "            padding='max_length',\n",
    "            max_length=512 # You might need to adjust the max_length based on your specific needs\n",
    "        )\n",
    "\n",
    "        with torch.no_grad():\n",
    "            outputs = model(**inputs)\n",
    "            logits = outputs.logits\n",
    "            sentiment = torch.argmax(logits, dim=1).item()\n",
    "            sentiments.append(sentiment)\n",
    "\n",
    "    return sentiments"
   ]
  },
  {
   "cell_type": "code",
   "execution_count": 12,
   "metadata": {
    "id": "Kj5svabQiJRl"
   },
   "outputs": [],
   "source": [
    "# Function to calculate the average sentiment score\n",
    "def calculate_average_sentiment(df):\n",
    "    # Group by product ID and calculate the mean of the 'Sentiment Score' for each group\n",
    "    average_sentiments = df.groupby('id')['Sentiment_Score'].mean()\n",
    "\n",
    "    # Map the average sentiments to a new column in the original DataFrame\n",
    "    df['Average Sentiment Score'] = df['id'].map(average_sentiments)\n",
    "\n",
    "    return df"
   ]
  },
  {
   "cell_type": "markdown",
   "metadata": {
    "id": "75lsuDEMmzvN"
   },
   "source": [
    "### Load & Score Reviews"
   ]
  },
  {
   "cell_type": "code",
   "execution_count": 14,
   "metadata": {
    "id": "VY284EVzplnP"
   },
   "outputs": [],
   "source": [
    "clean_reviews = preprocess_text(df['reviews.text'])"
   ]
  },
  {
   "cell_type": "code",
   "execution_count": 15,
   "metadata": {
    "id": "dcbKKBEJtHTq"
   },
   "outputs": [],
   "source": [
    "# Get sentiment scores for the reviews\n",
    "sentiment_scores = get_sentiment_scores(clean_reviews)\n",
    "df['Sentiment_Score'] = sentiment_scores"
   ]
  },
  {
   "cell_type": "code",
   "execution_count": null,
   "metadata": {},
   "outputs": [],
   "source": [
    "def plot_sentiment_distribution(sentiment_scores):\n",
    "    \"\"\"\n",
    "    Plots a histogram of the sentiment scores.\n",
    "    \"\"\"\n",
    "    plt.figure(figsize=(10, 6))\n",
    "    sns.countplot(sentiment_scores)\n",
    "    plt.title('Distribution of Sentiment Scores')\n",
    "    plt.xlabel('Sentiment Score')\n",
    "    plt.ylabel('Number of Reviews')\n",
    "    plt.xticks(ticks=range(len(set(sentiment_scores))), labels=[f\"Sentiment {i}\" for i in set(sentiment_scores)])\n",
    "    plt.grid(axis='y')\n",
    "    # plt.show()\n",
    "    plt.savefig(sentiment_distribution)\n",
    "    \n",
    "# Plot the sentiment distribution for our dataset\n",
    "plot_sentiment_distribution(sentiment_scores)"
   ]
  },
  {
   "cell_type": "markdown",
   "metadata": {
    "id": "ImBBgFUfKbWM"
   },
   "source": [
    "For the reviews which had no review.text values, we will now replace their calculated sentiment scores with their originally given review.rating scores."
   ]
  },
  {
   "cell_type": "code",
   "execution_count": null,
   "metadata": {
    "id": "LuuBK9EgL_49"
   },
   "outputs": [],
   "source": [
    "mask = df['reviews.text'] == \"No Review.\"\n",
    "df.loc[mask, 'Sentiment_Score'] = df.loc[mask, 'reviews.rating']"
   ]
  },
  {
   "cell_type": "code",
   "execution_count": null,
   "metadata": {
    "id": "0ZWUZs0aI3Ys"
   },
   "outputs": [],
   "source": [
    "df.to_csv('scored-{n}.csv')"
   ]
  },
  {
   "cell_type": "markdown",
   "metadata": {
    "id": "mLVGuoYfKtwT"
   },
   "source": [
    "We will then go onto calculating the average sentiment score based on the total reviews, for all products."
   ]
  },
  {
   "cell_type": "code",
   "execution_count": null,
   "metadata": {
    "colab": {
     "base_uri": "https://localhost:8080/",
     "height": 811
    },
    "id": "jsGlwyXXiOr0",
    "outputId": "16fe676e-df76-4214-86d0-7024d7bca6b4"
   },
   "outputs": [],
   "source": [
    "df = calculate_average_sentiment(df)"
   ]
  },
  {
   "cell_type": "markdown",
   "metadata": {
    "id": "jS_0ullPMRFT"
   },
   "source": [
    "And now we will replace the Null values for some of the review data with the string \"None\", and for the name column with \"No Name\"."
   ]
  },
  {
   "cell_type": "code",
   "execution_count": null,
   "metadata": {
    "id": "HldBIDsnMQEO"
   },
   "outputs": [],
   "source": [
    "df['reviews.didPurchase'] = df['reviews.didPurchase'].fillna('None')\n",
    "df['reviews.userCity'] = df['reviews.userCity'].fillna('None')\n",
    "df['reviews.userProvince'] = df['reviews.userProvince'].fillna('None')\n",
    "\n",
    "df['name'] = df['name'].fillna('No Name')\n",
    "\n",
    "df.head()"
   ]
  },
  {
   "cell_type": "markdown",
   "metadata": {
    "id": "vlE-KFv6bmMm"
   },
   "source": [
    "## **CRUD Operations**"
   ]
  },
  {
   "cell_type": "code",
   "execution_count": null,
   "metadata": {
    "scrolled": true
   },
   "outputs": [],
   "source": [
    "from pymongo.mongo_client import MongoClient\n",
    "from pymongo.server_api import ServerApi"
   ]
  },
  {
   "cell_type": "markdown",
   "metadata": {},
   "source": [
    "        uri = \"mongodb+srv://delisamav3:<$Lindelani3>@cluster0.pd2aans.mongodb.net/?retryWrites=true&w=majority\"\n",
    "\n",
    "        # Create a new client and connect to the server\n",
    "        client = MongoClient(uri, server_api=ServerApi('1'))\n",
    "\n",
    "        # Send a ping to confirm a successful connection\n",
    "        try:\n",
    "            client.admin.command('ping')\n",
    "            print(\"Pinged your deployment. You successfully connected to MongoDB!\")\n",
    "        except Exception as e:\n",
    "            print(e)"
   ]
  },
  {
   "cell_type": "code",
   "execution_count": null,
   "metadata": {},
   "outputs": [],
   "source": [
    "client = MongoClient('localhost', 27017)"
   ]
  },
  {
   "cell_type": "code",
   "execution_count": null,
   "metadata": {
    "id": "Wrn5rh32bh3e"
   },
   "outputs": [],
   "source": [
    "db = client['amazon_consumer_db']\n",
    "products_collection = db['products']\n",
    "reviews_collection = db['reviews']"
   ]
  },
  {
   "cell_type": "markdown",
   "metadata": {},
   "source": [
    "Now we've connected to our database and its collections"
   ]
  },
  {
   "cell_type": "markdown",
   "metadata": {},
   "source": [
    "####"
   ]
  },
  {
   "cell_type": "markdown",
   "metadata": {},
   "source": [
    "Next, we want to drop duplicates based on the id column, but if there's a duplicate where one of the name values is \"No Name\", we want to prefer the other name. The following is will be our approach\n",
    "\n",
    "Sort the DataFrame: First, sort the DataFrame so that rows with \"No Name\" for a particular id come after rows with actual names. This ensures that when duplicates are dropped based on id, the desired row (the one with an actual name) is kept.\n",
    "\n",
    "Drop duplicates based on the 'id' column: After sorting, ww will then drop duplicates based on the id column. Since we've sorted in step 1, the first occurrence of a particular id will have the preferred name.\n"
   ]
  },
  {
   "cell_type": "code",
   "execution_count": null,
   "metadata": {},
   "outputs": [],
   "source": [
    "# Rows with 'No Name' will be at the bottom for each id, so they will be dropped in the next step.\n",
    "df_sorted = df.sort_values(by=['id', 'name'], ascending=[True, False], key=lambda col: col != 'No Name')\n",
    "\n",
    "# Drop duplicates based on the 'id' column\n",
    "df_unique = df_sorted.drop_duplicates(subset='id')\n",
    "\n",
    "df_unique.to_csv('unique-{n}.csv', index=False)\n",
    "df_unique.head()"
   ]
  },
  {
   "cell_type": "markdown",
   "metadata": {},
   "source": [
    "## Benefits of This Design:\n",
    "Scalability: By separating reviews from product details, you can handle a large number of reviews without hitting any document size limits.\n",
    "Flexibility: Allows for querying and updating reviews independently of products.\n",
    "Efficiency: Can reduce duplication of data (e.g., product details in every review).\n",
    "\n",
    "## How to Implement Queries:\n",
    "To get a product with its reviews: You can perform a query on the products collection and then either use the embedded review references to look up detailed review information or perform a join with the reviews collection (using MongoDB's $lookup operator) based on the review IDs.\n",
    "\n",
    "To get a review with its associated product: You can query the reviews collection by review ID and then look up the associated product by the product ID."
   ]
  },
  {
   "cell_type": "markdown",
   "metadata": {
    "id": "61r2cZsHjl55"
   },
   "source": [
    "## Schema:"
   ]
  },
  {
   "cell_type": "markdown",
   "metadata": {},
   "source": [
    "Products Collection:\n",
    "\n",
    "    {\n",
    "        \"product\": {\n",
    "            \"id\": \"AVqkIhwDv8e3D1O-lebb\",\n",
    "            \"name\": \"All-New Fire HD 8 Tablet...\",\n",
    "            \"asins\": \"B01AHB9CN2\",\n",
    "            \"brand\": \"Amazon\",\n",
    "            \"categories\": [\"Electronics\", \"Tablets\"],\n",
    "            \"keys\": \"...\",\n",
    "            \"manufacturer\": \"Amazon\",\n",
    "            \"average_sentiment_score\": 0.5\n",
    "            \"numReviews\": 2\n",
    "        },\n",
    "        \"reviews\": [\n",
    "          {\n",
    "            \"date\": \"2021-01-01\",\n",
    "            \"id\": \"r000012\",\n",
    "            \"sentiment_score\": 0.7\n",
    "          },\n",
    "          {\n",
    "            \"date\": \"2021-02-01\",\n",
    "            \"id\": \"r001342\",\n",
    "            \"sentiment_score\": 0.3\n",
    "          }\n",
    "        ]\n",
    "    }"
   ]
  },
  {
   "cell_type": "markdown",
   "metadata": {},
   "source": [
    "Reviews Collection:\n",
    "\n",
    "    {\n",
    "          \"id\": \"r000012\",\n",
    "          \"productId\": \"AVqkIhwDv8e3D1O-lebb\", // Reference to the product\n",
    "          \"date\": \"2017-01-13T00:00:00.000Z\",\n",
    "          \"dateAdded\": \"2017-07-03T23:33:15Z\",\n",
    "          \"dateSeen\": [\"2017-06-07T09:04:00.000Z\", \"2017-04-30T00:45:00.000Z\"],\n",
    "          \"didPurchase\": null,\n",
    "          \"doRecommend\": true,\n",
    "          \"numHelpful\": 0,\n",
    "          \"rating\": 5,\n",
    "          \"sourceURLs\": [\"http://...\", \"http://...\"],\n",
    "          \"text\": \"This product so far has not disappointed. My children love to use it and I like the ability to monitor control what content they see with ease.\",\n",
    "          \"title\": \"Kindle\",\n",
    "          \"userCity\": null,\n",
    "          \"userProvince\": null,\n",
    "          \"username\": \"Adapter\",\n",
    "          \"sentimentScore\": 4.7\n",
    "    }"
   ]
  },
  {
   "cell_type": "markdown",
   "metadata": {},
   "source": [
    "reviews are both embedded within the product document (for fast reads) and stored in a separate collection (for more detailed querying)."
   ]
  },
  {
   "cell_type": "markdown",
   "metadata": {
    "id": "zrWoYfmdbu9F"
   },
   "source": [
    "# Create"
   ]
  },
  {
   "cell_type": "code",
   "execution_count": null,
   "metadata": {
    "id": "oNUjWWLcNczL"
   },
   "outputs": [],
   "source": [
    "def make_review_data_row(row):\n",
    "    columns_to_keep = ['reviews.id', 'reviews.dateAdded', 'reviews.rating', 'Sentiment_Score']\n",
    "    reviews = row[columns_to_keep].to_dict()\n",
    "    \n",
    "    # Mapping old column names to new ones\n",
    "    column_name_map = {\n",
    "        'reviews.id': 'id',\n",
    "        'reviews.dateAdded': 'dateAdded',\n",
    "        'reviews.rating': 'rating',\n",
    "        'Sentiment_Score': 'sentimentScore'\n",
    "    }\n",
    "    \n",
    "    renamed_reviews = {column_name_map[key]: value for key, value in reviews.items()}\n",
    "    \n",
    "    return renamed_reviews"
   ]
  },
  {
   "cell_type": "code",
   "execution_count": null,
   "metadata": {},
   "outputs": [],
   "source": [
    "def make_review_data_dict(review):\n",
    "    # Filtering the reviews DataFrame based on the product ID\n",
    "    review_data = {\n",
    "        \"id\": review.get('id'),\n",
    "        \"dateAdded\": review.get('dateAdded'),\n",
    "        \"rating\": review.get('rating'),\n",
    "        \"sentimentScore\": review.get('sentimentScore')\n",
    "    }\n",
    "    return review_data"
   ]
  },
  {
   "cell_type": "code",
   "execution_count": null,
   "metadata": {},
   "outputs": [],
   "source": [
    "def make_product_data(product_data, reviews_data):\n",
    "    product_item = {\n",
    "        \"product\": {\n",
    "            \"id\": product_data['id'],\n",
    "            \"name\": product_data['name'],\n",
    "            \"asins\": product_data['asins'],\n",
    "            \"brand\": product_data['brand'],\n",
    "            \"categories\": product_data['categories'],\n",
    "            \"keys\": product_data['keys'],\n",
    "            \"manufacturer\": product_data['manufacturer'],\n",
    "            \"average_sentiment_score\": product_data['Average Sentiment Score'],\n",
    "            \"numReviews\": product_data['numReviews']\n",
    "        },\n",
    "        \"reviews\": reviews_data\n",
    "    }\n",
    "    return product_item"
   ]
  },
  {
   "cell_type": "code",
   "execution_count": null,
   "metadata": {},
   "outputs": [],
   "source": [
    "def make_review(row):\n",
    "    review = {\n",
    "        \"id\": row['reviews.id'],\n",
    "        \"productId\": row['id'],\n",
    "        \"date\": row['reviews.date'],\n",
    "        \"dateAdded\": row['reviews.dateAdded'],\n",
    "        \"dateSeen\": row['reviews.dateSeen'].split(','),\n",
    "        \"didPurchase\": row['reviews.didPurchase'],\n",
    "        \"doRecommend\": row['reviews.doRecommend'],\n",
    "        \"helpfulScore\": row['reviews.numHelpful'],\n",
    "        \"rating\": row['reviews.rating'],\n",
    "        \"sourceURLs\": row['reviews.sourceURLs'].split(','),\n",
    "        \"text\": row['reviews.text'],\n",
    "        \"title\": row['reviews.title'],\n",
    "        \"userCity\": row['reviews.userCity'],\n",
    "        \"userProvince\": row['reviews.userProvince'],\n",
    "        \"username\": row['reviews.username'],\n",
    "        \"sentimentScore\": row['Sentiment_Score']\n",
    "    }\n",
    "    return review"
   ]
  },
  {
   "cell_type": "markdown",
   "metadata": {
    "id": "811-CMAIWark"
   },
   "source": [
    "The following function will enable us with adding single item documents to our Product collection."
   ]
  },
  {
   "cell_type": "code",
   "execution_count": null,
   "metadata": {
    "id": "Wjms67FnpLuv"
   },
   "outputs": [],
   "source": [
    "def insert_product(product_item):\n",
    "    try:\n",
    "        db['products'].insert_one(product_item)\n",
    "        print(\"Product inserted successfully.\")\n",
    "    except Exception as e:\n",
    "        print(\"Error inserting product:\", str(e))\n"
   ]
  },
  {
   "cell_type": "markdown",
   "metadata": {
    "id": "U1HutyhbVtr1"
   },
   "source": [
    "Now for adding to the Reviews collection"
   ]
  },
  {
   "cell_type": "code",
   "execution_count": null,
   "metadata": {
    "id": "K7Q2vzMwpReH"
   },
   "outputs": [],
   "source": [
    "def insert_review(review_item):\n",
    "    try:\n",
    "        db['reviews'].insert_one(review_item)\n",
    "        print(\"Review inserted successfully.\")\n",
    "    except Exception as e:\n",
    "        print(\"Error inserting review:\", str(e))\n"
   ]
  },
  {
   "cell_type": "markdown",
   "metadata": {
    "id": "Z-hJSsfpW0XD"
   },
   "source": [
    "Replacing null values for .didPurchase, .userCity, and .userProvince with string \"None\" or \"Null\" ??"
   ]
  },
  {
   "cell_type": "code",
   "execution_count": null,
   "metadata": {
    "id": "wfuhV9JlVEo5"
   },
   "outputs": [],
   "source": [
    "for index, row in df_unique.iterrows():\n",
    "    review_data = make_review_data_row(row)\n",
    "    product = make_product_data(row, [review_data])\n",
    "    review = make_review(row)\n",
    "    \n",
    "    insert_product(product)\n",
    "    insert_review(review)"
   ]
  },
  {
   "cell_type": "markdown",
   "metadata": {
    "id": "efcfdiwEbztd"
   },
   "source": [
    "# Read"
   ]
  },
  {
   "cell_type": "code",
   "execution_count": null,
   "metadata": {},
   "outputs": [],
   "source": [
    "def print_review(review_data):\n",
    "    r_id = review_data['id']\n",
    "    p_id = review_data['productId']\n",
    "    date_add = review_data['dateAdded']\n",
    "    score = review_data['sentimentScore']\n",
    "    text = review_data['text']\n",
    "\n",
    "    print(f\"ID: {r_id}\")\n",
    "    print(f\"Product ID: {p_id}\")\n",
    "    print(f\"Date Added: {date_add}\")\n",
    "    print(f\"Sentiment Score: {score}\")\n",
    "    print(f\"Text: {text}\")"
   ]
  },
  {
   "cell_type": "code",
   "execution_count": null,
   "metadata": {
    "id": "vzSQHczRO3Wq"
   },
   "outputs": [],
   "source": [
    "def get_review_ids(product_id):\n",
    "    product = products_collection.find_one({'product.id': product_id})\n",
    "    review_ids = [review['id'] for review in product['reviews']] if product else []\n",
    "\n",
    "    return review_ids"
   ]
  },
  {
   "cell_type": "code",
   "execution_count": null,
   "metadata": {
    "id": "UMa4xWdpPI1x"
   },
   "outputs": [],
   "source": [
    "def get_review_data(review_id):\n",
    "    review_data = reviews_collection.find_one({'id': review_id})\n",
    "\n",
    "    return review_data"
   ]
  },
  {
   "cell_type": "code",
   "execution_count": null,
   "metadata": {
    "id": "6nq7AxDFPR8x"
   },
   "outputs": [],
   "source": [
    "def get_product_data(product_id):\n",
    "    product_data = products_collection.find_one({'product.id': product_id})\n",
    "\n",
    "    return product_data"
   ]
  },
  {
   "cell_type": "code",
   "execution_count": null,
   "metadata": {},
   "outputs": [],
   "source": [
    "def get_all_product_ids():\n",
    "    \"\"\"\n",
    "    Retrieves all the available product IDs from the database.\n",
    "    \"\"\"\n",
    "    return db['products'].distinct('product.id')"
   ]
  },
  {
   "cell_type": "code",
   "execution_count": null,
   "metadata": {},
   "outputs": [],
   "source": [
    "def get_all_review_ids():\n",
    "    \"\"\"\n",
    "    Retrieves all the available review IDs from the database.\n",
    "    \"\"\"\n",
    "    return db['reviews'].distinct('id')"
   ]
  },
  {
   "cell_type": "markdown",
   "metadata": {},
   "source": [
    "We can print all existing product ids and then pick one to use for the demonstration"
   ]
  },
  {
   "cell_type": "code",
   "execution_count": null,
   "metadata": {},
   "outputs": [],
   "source": [
    "get_all_product_ids()"
   ]
  },
  {
   "cell_type": "code",
   "execution_count": null,
   "metadata": {},
   "outputs": [],
   "source": [
    "product_id = \"AV1YnR7wglJLPUi8IJmi\""
   ]
  },
  {
   "cell_type": "code",
   "execution_count": null,
   "metadata": {
    "id": "3mQVZq0YPe-h"
   },
   "outputs": [],
   "source": [
    "product_data = get_product_data(product_id)\n",
    "\n",
    "if product_data:\n",
    "    product_name = product_data['product']['name']\n",
    "    product_brand = product_data['product']['brand']\n",
    "    first_review_date = product_data['reviews'][0]['dateAdded'] if product_data['reviews'] else None\n",
    "    first_review_sentiment_score = product_data['reviews'][0]['sentimentScore'] if product_data['reviews'] else None\n",
    "\n",
    "    print(f\"Product Name: {product_name}\")\n",
    "    print(f\"Product Brand: {product_brand}\")\n",
    "    print(f\"First Review Date: {first_review_date}\")\n",
    "    print(f\"First Review Sentiment Score: {first_review_sentiment_score}\")\n",
    "else:\n",
    "    print(\"Product not found\")\n",
    "\n",
    "print(\"\")\n",
    "\n",
    "review_ids = get_review_ids(product_id)\n",
    "\n",
    "if review_ids:\n",
    "    print(\"Review IDs: \")\n",
    "    print(review_ids)\n",
    "    \n",
    "else:\n",
    "    print(\"Review IDs not found\")"
   ]
  },
  {
   "cell_type": "code",
   "execution_count": null,
   "metadata": {},
   "outputs": [],
   "source": [
    "review_data = get_review_data(review_ids[0])\n",
    "\n",
    "if review_data:\n",
    "    print_review(review_data)\n",
    "else:\n",
    "    print(\"Review data not found\")"
   ]
  },
  {
   "cell_type": "markdown",
   "metadata": {
    "id": "YimhBn52b3QN"
   },
   "source": [
    "# Update"
   ]
  },
  {
   "cell_type": "code",
   "execution_count": null,
   "metadata": {
    "id": "u-Ch3QpbZ2Ff"
   },
   "outputs": [],
   "source": [
    "def update_avgSentiment_after_insertion(product_id, sentiment_score):\n",
    "    product = db['Products'].find_one({\"product.id\": product_id})\n",
    "    if product:\n",
    "        total_reviews = product[\"product\"][\"numReviews\"]\n",
    "        old_average = product[\"product\"][\"average_sentiment_score\"]\n",
    "        new_average = (old_average * total_reviews + sentiment_score) / (total_reviews + 1)\n",
    "        db['Products'].update_one({\"product.id\": product_id}, {\"$set\": {\"product.average_sentiment_score\": new_average}})\n",
    "\n",
    "def increase_number_of_reviews(product_id):\n",
    "    db['Products'].update_one({\"product.id\": product_id}, {\"$inc\": {\"product.numReviews\": 1}})"
   ]
  },
  {
   "cell_type": "code",
   "execution_count": null,
   "metadata": {
    "id": "LfeI-fQXZ8bi"
   },
   "outputs": [],
   "source": [
    "def decrease_number_of_reviews(product_id):\n",
    "    db['Products'].update_one({\"product.id\": product_id}, {\"$inc\": {\"product.numReviews\": -1}})\n",
    "\n",
    "def update_average_sentiment_score_after_deletion(product_id, sentiment_score_to_remove):\n",
    "    product = db['Products'].find_one({\"product.id\": product_id})\n",
    "    if product:\n",
    "        total_reviews = product[\"product\"][\"numReviews\"]\n",
    "        old_average = product[\"product\"][\"average_sentiment_score\"]\n",
    "        # If only one review, set average sentiment score to 0\n",
    "        if total_reviews == 1:\n",
    "            new_average = 0\n",
    "        else:\n",
    "            new_average = (old_average * total_reviews - sentiment_score_to_remove) / (total_reviews - 1)\n",
    "        db['Products'].update_one({\"product.id\": product_id}, {\"$set\": {\"product.average_sentiment_score\": new_average}})\n"
   ]
  },
  {
   "cell_type": "code",
   "execution_count": null,
   "metadata": {},
   "outputs": [],
   "source": [
    "def insert_new_review(product_id, review):\n",
    "    # Check if the product exists\n",
    "    product = db['products'].find_one({\"product.id\": product_id})\n",
    "    if not product:\n",
    "        print(\"Product not found.\")\n",
    "        return\n",
    "\n",
    "    # Check if the review already exists based on review id\n",
    "    existing_review = db['reviews'].find_one({\"id\": review['id']})\n",
    "    if existing_review:\n",
    "        print(f\"Review with id {review['id']} already exists.\")\n",
    "        return\n",
    "\n",
    "    # If the review doesn't exist, insert it and update the product document accordingly\n",
    "    try:\n",
    "        # Updating the average sentiment score for the product and the number of reviews\n",
    "        update_avgSentiment_after_insertion(product_id, review['sentimentScore'])\n",
    "        increase_number_of_reviews(product_id)\n",
    "        \n",
    "        # Insert the review into the Reviews collection\n",
    "        review['productId'] = product_id\n",
    "        reviews_collection.insert_one(review)\n",
    "        # print(review)\n",
    "\n",
    "        # Add the review to the embedded reviews list inside the product document\n",
    "        review = make_review_data_dict(review)\n",
    "        # print(review)\n",
    "        products_collection.update_one(\n",
    "            {\"product.id\": product_id},\n",
    "            {\n",
    "                \"$push\": {\"reviews\": review},\n",
    "                \"$inc\": {\"product.numReviews\": 1}  # Increase the count of reviews\n",
    "            }\n",
    "        )\n",
    "\n",
    "        print(\"Review inserted successfully.\")\n",
    "    except Exception as e:\n",
    "        print(f\"Error inserting review: {str(e)}\")\n"
   ]
  },
  {
   "cell_type": "code",
   "execution_count": null,
   "metadata": {},
   "outputs": [],
   "source": [
    "review_data['id'] = \"r47000\"\n",
    "if '_id' in review_data:\n",
    "    del review_data['_id']\n",
    "    \n",
    "insert_new_review(product_id, review_data)"
   ]
  },
  {
   "cell_type": "code",
   "execution_count": null,
   "metadata": {},
   "outputs": [],
   "source": [
    "review_data['id'] = \"r300999A\"\n",
    "if '_id' in review_data:\n",
    "    del review_data['_id']\n",
    "    \n",
    "insert_new_review(product_id, review_data)"
   ]
  },
  {
   "cell_type": "code",
   "execution_count": null,
   "metadata": {},
   "outputs": [],
   "source": [
    "review_ids = get_review_ids(product_id)\n",
    "\n",
    "if review_ids:\n",
    "    print(review_ids)\n",
    "else:\n",
    "    print(\"Review IDs not found\")"
   ]
  },
  {
   "cell_type": "markdown",
   "metadata": {},
   "source": [
    "Now we want to update some specific value with regards to our stored data. In this case we will implement the functionality of updating the dateAdded for some specific review. The relating products document will also have to be updated."
   ]
  },
  {
   "cell_type": "code",
   "execution_count": null,
   "metadata": {},
   "outputs": [],
   "source": [
    "def update_review_date_in_product(product_id, review_id, new_date):\n",
    "    \"\"\"\n",
    "    Updates the 'dateAdded' field for a review embedded in a product document.\n",
    "    \"\"\"\n",
    "    result = db['products'].update_one(\n",
    "        {\"product.id\": product_id, \"reviews.id\": review_id},\n",
    "        {\"$set\": {\"reviews.$.dateAdded\": new_date}}\n",
    "    )\n",
    "    \n",
    "    return result.modified_count > 0"
   ]
  },
  {
   "cell_type": "code",
   "execution_count": null,
   "metadata": {},
   "outputs": [],
   "source": [
    "def update_review_date_added(review_id, new_date=None):\n",
    "    \"\"\"\n",
    "    Updates the 'dateAdded' field for a review with the given review_id.\n",
    "    If new_date is not provided, it updates with the current datetime.\n",
    "    \"\"\"\n",
    "    if not new_date:\n",
    "        new_date = datetime.now().isoformat()\n",
    "\n",
    "    # Update the main review collection\n",
    "    result = db['reviews'].update_one(\n",
    "        {\"id\": review_id},\n",
    "        {\"$set\": {\"dateAdded\": new_date}}\n",
    "    )\n",
    "\n",
    "    if result.modified_count:\n",
    "        # Get the associated product ID for the review\n",
    "        review = db['reviews'].find_one({\"id\": review_id})\n",
    "        if review and 'productId' in review:\n",
    "            product_id = review['productId']\n",
    "            # Update the embedded review date in the related product document\n",
    "            if update_review_date_in_product(product_id, review_id, new_date):\n",
    "                print(f\"Review {review_id}'s dateAdded in related product updated to {new_date}.\")\n",
    "            else:\n",
    "                print(f\"Failed to update embedded review {review_id}'s dateAdded in product {product_id}.\")\n",
    "        print(f\"Review {review_id}'s dateAdded updated to {new_date}.\")\n",
    "    else:\n",
    "        print(f\"Review {review_id} not found or dateAdded was already {new_date}.\")\n"
   ]
  },
  {
   "cell_type": "code",
   "execution_count": null,
   "metadata": {},
   "outputs": [],
   "source": [
    "review_id = \"r47000\""
   ]
  },
  {
   "cell_type": "code",
   "execution_count": null,
   "metadata": {},
   "outputs": [],
   "source": [
    "review_data = get_review_data(review_id)\n",
    "\n",
    "if review_data:\n",
    "    print_review(review_data)\n",
    "else:\n",
    "    print(\"Review data not found\")"
   ]
  },
  {
   "cell_type": "code",
   "execution_count": null,
   "metadata": {},
   "outputs": [],
   "source": [
    "new_date = \"2023-08-04T00:00:00.000Z\"  # if not provided, current datetime is used\n",
    "update_review_date_added(review_id, new_date)"
   ]
  },
  {
   "cell_type": "code",
   "execution_count": null,
   "metadata": {},
   "outputs": [],
   "source": [
    "review_data = get_review_data(review_id)\n",
    "\n",
    "if review_data:\n",
    "    print_review(review_data)\n",
    "else:\n",
    "    print(\"Review data not found\")"
   ]
  },
  {
   "cell_type": "markdown",
   "metadata": {
    "id": "T6mTx7IPb_Yt"
   },
   "source": [
    "# Delete"
   ]
  },
  {
   "cell_type": "markdown",
   "metadata": {},
   "source": [
    "To delete a review, we will:\n",
    "\n",
    "1. Look up the review by its unique ID.\n",
    "\n",
    "2. If found, use the associated productId to find the referenced product.\n",
    "\n",
    "3. Decrease the number of reviews for that product.\n",
    "\n",
    "4. Update the average sentiment score for that product.\n",
    "\n",
    "5. Remove the review from the \"reviews\" field in the product document.\n",
    "\n",
    "6. Delete the review document from the \"reviews\" collection."
   ]
  },
  {
   "cell_type": "code",
   "execution_count": null,
   "metadata": {},
   "outputs": [],
   "source": [
    "def delete_review(review_id):\n",
    "    # First, look up the review by its unique ID\n",
    "    review = db['reviews'].find_one({\"id\": review_id})\n",
    "    \n",
    "    if not review:\n",
    "        print(f\"No review found with ID {review_id}\")\n",
    "        return\n",
    "\n",
    "    # Use the associated productId to find the referenced product\n",
    "    product_id = review['productId']\n",
    "    product = db['products'].find_one({\"product.id\": product_id})\n",
    "    if not product:\n",
    "        print(f\"No product found with ID {product_id} for the review with ID {review_id}\")\n",
    "        return\n",
    "\n",
    "    # Decrease the number of reviews for that product\n",
    "    decrease_number_of_reviews(product_id)\n",
    "    \n",
    "    # Update the average sentiment score for that product\n",
    "    sentiment_score_to_remove = review['sentimentScore']\n",
    "    update_average_sentiment_score_after_deletion(product_id, sentiment_score_to_remove)\n",
    "\n",
    "    # Remove the review from the \"reviews\" field in the product document\n",
    "    db['products'].update_one(\n",
    "        {\"product.id\": product_id},\n",
    "        {\"$pull\": {\"reviews\": {\"id\": review_id}}}\n",
    "    )\n",
    "\n",
    "    # Finally, delete the review document from the \"reviews\" collection\n",
    "    db['reviews'].delete_one({\"id\": review_id})\n",
    "\n",
    "    print(f\"Review with ID {review_id} deleted successfully.\")\n"
   ]
  },
  {
   "cell_type": "code",
   "execution_count": null,
   "metadata": {},
   "outputs": [],
   "source": [
    "delete_review(review_id)\n",
    "review_ids = get_review_ids(product_id)\n",
    "\n",
    "if review_ids:\n",
    "    print('')\n",
    "    print(\"Remaining Reviews:\")\n",
    "    print(review_ids)\n",
    "else:\n",
    "    print(\"Review IDs not found\")"
   ]
  },
  {
   "cell_type": "markdown",
   "metadata": {},
   "source": [
    "To delete a product and its associated reviews:\n",
    "\n",
    "1. Look up the product by its unique ID.\n",
    "2. If found, retrieve the list of associated review IDs or other identifiers if available.\n",
    "3. Delete all reviews associated with the product.\n",
    "4. Delete the product document from the \"products\" collection."
   ]
  },
  {
   "cell_type": "code",
   "execution_count": null,
   "metadata": {},
   "outputs": [],
   "source": [
    "def delete_product(product_id):\n",
    "    # First, look up the product by its unique ID\n",
    "    product = db['products'].find_one({\"product.id\": product_id})\n",
    "    \n",
    "    if not product:\n",
    "        print(f\"No product found with ID {product_id}\")\n",
    "        return\n",
    "\n",
    "    # Delete all reviews associated with this product\n",
    "    associated_reviews = db['reviews'].delete_many({\"productId\": product_id})\n",
    "    if associated_reviews.deleted_count > 0:\n",
    "        print(f\"{associated_reviews.deleted_count} associated reviews deleted.\")\n",
    "\n",
    "    # Finally, delete the product document from the \"products\" collection\n",
    "    db['products'].delete_one({\"product.id\": product_id})\n",
    "\n",
    "    print(f\"Product with ID {product_id} deleted successfully.\")\n"
   ]
  },
  {
   "cell_type": "code",
   "execution_count": null,
   "metadata": {},
   "outputs": [],
   "source": [
    "product_ids = get_all_product_ids()\n",
    "print(\"All Product IDs:\", product_ids)\n",
    "\n",
    "review_ids = get_all_review_ids()\n",
    "print(\"All Review IDs:\", review_ids)"
   ]
  },
  {
   "cell_type": "code",
   "execution_count": null,
   "metadata": {},
   "outputs": [],
   "source": [
    "delete_product(product_id)"
   ]
  },
  {
   "cell_type": "code",
   "execution_count": null,
   "metadata": {},
   "outputs": [],
   "source": [
    "product_ids = get_all_product_ids()\n",
    "print(\"All Product IDs:\", product_ids)\n",
    "\n",
    "review_ids = get_all_review_ids()\n",
    "print(\"All Review IDs:\", review_ids)"
   ]
  },
  {
   "cell_type": "markdown",
   "metadata": {
    "id": "dSWTJ8zlcsFL"
   },
   "source": [
    "## **Client & App**"
   ]
  },
  {
   "cell_type": "code",
   "execution_count": null,
   "metadata": {
    "id": "sL6h60wkbks_"
   },
   "outputs": [],
   "source": [
    "from flask import Flask, jsonify, request\n",
    "\n",
    "app = Flask(__name__)"
   ]
  },
  {
   "cell_type": "code",
   "execution_count": null,
   "metadata": {
    "id": "611Fz2pnabkE"
   },
   "outputs": [],
   "source": [
    "client.close()"
   ]
  },
  {
   "cell_type": "markdown",
   "metadata": {
    "id": "VUzYTJytcYZG"
   },
   "source": [
    "## Here's a breakdown of how this structure works:\n",
    "\n",
    "Product Document: Contains information about a product, including an array of references to reviews (with minimal information such as date and sentiment score). This could be placed in a products collection.\n",
    "\n",
    "Review Document: Contains detailed information about a review, including a reference to the product ID it's associated with. This could be placed in a reviews collection.\n",
    "\n",
    "\n",
    "## Conclusion:\n",
    "This design makes sense for a system where you expect to have many reviews for each product and want to keep the system scalable and normalized. It aligns well with typical NoSQL design patterns and takes advantage of MongoDB's flexibility in handling complex data structures. Make sure to carefully plan the indexes (e.g., on product ID, review ID) to optimize query performance."
   ]
  },
  {
   "cell_type": "code",
   "execution_count": null,
   "metadata": {},
   "outputs": [],
   "source": []
  }
 ],
 "metadata": {
  "colab": {
   "collapsed_sections": [
    "WgHnpvyydNYr",
    "phISfUW5cpGE",
    "9MomK1VprjlL",
    "578EheeppZtF",
    "ip26P-e6ma7A",
    "bg43I8NNmn-4",
    "Eb8keq2kms6Q",
    "75lsuDEMmzvN",
    "vlE-KFv6bmMm",
    "dSWTJ8zlcsFL",
    "bDdku-vwcWQs"
   ],
   "provenance": []
  },
  "kernelspec": {
   "display_name": "Python 3 (ipykernel)",
   "language": "python",
   "name": "python3"
  },
  "language_info": {
   "codemirror_mode": {
    "name": "ipython",
    "version": 3
   },
   "file_extension": ".py",
   "mimetype": "text/x-python",
   "name": "python",
   "nbconvert_exporter": "python",
   "pygments_lexer": "ipython3",
   "version": "3.11.4"
  }
 },
 "nbformat": 4,
 "nbformat_minor": 1
}
